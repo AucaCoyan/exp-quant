{
  "nbformat": 4,
  "nbformat_minor": 0,
  "metadata": {
    "colab": {
      "name": "MPT_Crypto.ipynb",
      "provenance": [],
      "collapsed_sections": [],
      "include_colab_link": true
    },
    "kernelspec": {
      "name": "python3",
      "display_name": "Python 3"
    },
    "language_info": {
      "name": "python"
    }
  },
  "cells": [
    {
      "cell_type": "markdown",
      "metadata": {
        "id": "view-in-github",
        "colab_type": "text"
      },
      "source": [
        "<a href=\"https://colab.research.google.com/github/AucaCoyan/Python-Quant/blob/main/MPT_Crypto.ipynb\" target=\"_parent\"><img src=\"https://colab.research.google.com/assets/colab-badge.svg\" alt=\"Open In Colab\"/></a>"
      ]
    },
    {
      "cell_type": "code",
      "execution_count": null,
      "metadata": {
        "id": "3tstlumo861O"
      },
      "outputs": [],
      "source": [
        "import numpy as np\n",
        "import pandas as pd\n",
        "import datetime, requests"
      ]
    },
    {
      "cell_type": "code",
      "source": [
        "def geckoHistorical(ticker, vs_currency='usd', days='max'):\n",
        "    url = f\"https://api.coingecko.com/api/v3/coins/{ticker}/market_chart\"\n",
        "    params = {\"vs_currency\":{vs_currency}, \"days\":days}\n",
        "    r = requests.get(url, params).json()\n",
        "    prices = pd.DataFrame(r['prices'])\n",
        "    market_caps = pd.DataFrame(r['market_caps'])\n",
        "    total_volumes = pd.DataFrame(r['total_volumes'])\n",
        "    df = pd.concat([prices, market_caps[1], total_volumes[1]], axis=1)\n",
        "    df[0] = pd.to_datetime(df[0], unit='ms')\n",
        "    df.columns = ['date','price','market_caps','total_volumes']\n",
        "    df.set_index('date', inplace=True)\n",
        "\n",
        "    return df\n",
        "\n",
        "tickers = ['bitcoin','ethereum']\n",
        "\n",
        "series = []\n",
        "for ticker in tickers:\n",
        "    series.append(geckoHistorical(ticker)['price'].resample('D').last())\n",
        "    \n",
        "df = pd.concat(series, axis=1)\n",
        "df.columns = tickers"
      ],
      "metadata": {
        "id": "K380p3jJ9BG5"
      },
      "execution_count": null,
      "outputs": []
    },
    {
      "cell_type": "code",
      "source": [
        "retornos = np.log((df/df.shift(1)).dropna())\n",
        "datosTickers = []\n",
        "for ticker in retornos.columns:\n",
        "    d = {}\n",
        "    d['ticker'] = ticker\n",
        "    d['retorno'] = retornos[ticker].mean() * 365\n",
        "    d['volatilidad'] = retornos[ticker].std() * (365**0.5)\n",
        "    d['sharpe'] = d['retorno'] / d['volatilidad']\n",
        "    datosTickers.append(d)\n",
        "    \n",
        "\n",
        "datosTickers = pd.DataFrame(datosTickers).set_index('ticker')\n",
        "datosTickers"
      ],
      "metadata": {
        "colab": {
          "base_uri": "https://localhost:8080/",
          "height": 143
        },
        "id": "2tqOgO7I9HQf",
        "outputId": "18cd4a38-04f2-4fe4-89c0-97ee7b34becb"
      },
      "execution_count": null,
      "outputs": [
        {
          "output_type": "execute_result",
          "data": {
            "text/html": [
              "\n",
              "  <div id=\"df-e44a3528-95df-4672-8500-aa9de50c305b\">\n",
              "    <div class=\"colab-df-container\">\n",
              "      <div>\n",
              "<style scoped>\n",
              "    .dataframe tbody tr th:only-of-type {\n",
              "        vertical-align: middle;\n",
              "    }\n",
              "\n",
              "    .dataframe tbody tr th {\n",
              "        vertical-align: top;\n",
              "    }\n",
              "\n",
              "    .dataframe thead th {\n",
              "        text-align: right;\n",
              "    }\n",
              "</style>\n",
              "<table border=\"1\" class=\"dataframe\">\n",
              "  <thead>\n",
              "    <tr style=\"text-align: right;\">\n",
              "      <th></th>\n",
              "      <th>retorno</th>\n",
              "      <th>volatilidad</th>\n",
              "      <th>sharpe</th>\n",
              "    </tr>\n",
              "    <tr>\n",
              "      <th>ticker</th>\n",
              "      <th></th>\n",
              "      <th></th>\n",
              "      <th></th>\n",
              "    </tr>\n",
              "  </thead>\n",
              "  <tbody>\n",
              "    <tr>\n",
              "      <th>bitcoin</th>\n",
              "      <td>0.774907</td>\n",
              "      <td>0.755178</td>\n",
              "      <td>1.026125</td>\n",
              "    </tr>\n",
              "    <tr>\n",
              "      <th>ethereum</th>\n",
              "      <td>1.187506</td>\n",
              "      <td>1.196676</td>\n",
              "      <td>0.992337</td>\n",
              "    </tr>\n",
              "  </tbody>\n",
              "</table>\n",
              "</div>\n",
              "      <button class=\"colab-df-convert\" onclick=\"convertToInteractive('df-e44a3528-95df-4672-8500-aa9de50c305b')\"\n",
              "              title=\"Convert this dataframe to an interactive table.\"\n",
              "              style=\"display:none;\">\n",
              "        \n",
              "  <svg xmlns=\"http://www.w3.org/2000/svg\" height=\"24px\"viewBox=\"0 0 24 24\"\n",
              "       width=\"24px\">\n",
              "    <path d=\"M0 0h24v24H0V0z\" fill=\"none\"/>\n",
              "    <path d=\"M18.56 5.44l.94 2.06.94-2.06 2.06-.94-2.06-.94-.94-2.06-.94 2.06-2.06.94zm-11 1L8.5 8.5l.94-2.06 2.06-.94-2.06-.94L8.5 2.5l-.94 2.06-2.06.94zm10 10l.94 2.06.94-2.06 2.06-.94-2.06-.94-.94-2.06-.94 2.06-2.06.94z\"/><path d=\"M17.41 7.96l-1.37-1.37c-.4-.4-.92-.59-1.43-.59-.52 0-1.04.2-1.43.59L10.3 9.45l-7.72 7.72c-.78.78-.78 2.05 0 2.83L4 21.41c.39.39.9.59 1.41.59.51 0 1.02-.2 1.41-.59l7.78-7.78 2.81-2.81c.8-.78.8-2.07 0-2.86zM5.41 20L4 18.59l7.72-7.72 1.47 1.35L5.41 20z\"/>\n",
              "  </svg>\n",
              "      </button>\n",
              "      \n",
              "  <style>\n",
              "    .colab-df-container {\n",
              "      display:flex;\n",
              "      flex-wrap:wrap;\n",
              "      gap: 12px;\n",
              "    }\n",
              "\n",
              "    .colab-df-convert {\n",
              "      background-color: #E8F0FE;\n",
              "      border: none;\n",
              "      border-radius: 50%;\n",
              "      cursor: pointer;\n",
              "      display: none;\n",
              "      fill: #1967D2;\n",
              "      height: 32px;\n",
              "      padding: 0 0 0 0;\n",
              "      width: 32px;\n",
              "    }\n",
              "\n",
              "    .colab-df-convert:hover {\n",
              "      background-color: #E2EBFA;\n",
              "      box-shadow: 0px 1px 2px rgba(60, 64, 67, 0.3), 0px 1px 3px 1px rgba(60, 64, 67, 0.15);\n",
              "      fill: #174EA6;\n",
              "    }\n",
              "\n",
              "    [theme=dark] .colab-df-convert {\n",
              "      background-color: #3B4455;\n",
              "      fill: #D2E3FC;\n",
              "    }\n",
              "\n",
              "    [theme=dark] .colab-df-convert:hover {\n",
              "      background-color: #434B5C;\n",
              "      box-shadow: 0px 1px 3px 1px rgba(0, 0, 0, 0.15);\n",
              "      filter: drop-shadow(0px 1px 2px rgba(0, 0, 0, 0.3));\n",
              "      fill: #FFFFFF;\n",
              "    }\n",
              "  </style>\n",
              "\n",
              "      <script>\n",
              "        const buttonEl =\n",
              "          document.querySelector('#df-e44a3528-95df-4672-8500-aa9de50c305b button.colab-df-convert');\n",
              "        buttonEl.style.display =\n",
              "          google.colab.kernel.accessAllowed ? 'block' : 'none';\n",
              "\n",
              "        async function convertToInteractive(key) {\n",
              "          const element = document.querySelector('#df-e44a3528-95df-4672-8500-aa9de50c305b');\n",
              "          const dataTable =\n",
              "            await google.colab.kernel.invokeFunction('convertToInteractive',\n",
              "                                                     [key], {});\n",
              "          if (!dataTable) return;\n",
              "\n",
              "          const docLinkHtml = 'Like what you see? Visit the ' +\n",
              "            '<a target=\"_blank\" href=https://colab.research.google.com/notebooks/data_table.ipynb>data table notebook</a>'\n",
              "            + ' to learn more about interactive tables.';\n",
              "          element.innerHTML = '';\n",
              "          dataTable['output_type'] = 'display_data';\n",
              "          await google.colab.output.renderOutput(dataTable, element);\n",
              "          const docLink = document.createElement('div');\n",
              "          docLink.innerHTML = docLinkHtml;\n",
              "          element.appendChild(docLink);\n",
              "        }\n",
              "      </script>\n",
              "    </div>\n",
              "  </div>\n",
              "  "
            ],
            "text/plain": [
              "           retorno  volatilidad    sharpe\n",
              "ticker                                   \n",
              "bitcoin   0.774907     0.755178  1.026125\n",
              "ethereum  1.187506     1.196676  0.992337"
            ]
          },
          "metadata": {},
          "execution_count": 3
        }
      ]
    },
    {
      "cell_type": "code",
      "source": [
        "q = 5000\n",
        "carteras = [] \n",
        "\n",
        "for i in range(q):\n",
        "    print (f'Simulando portafolio N° {i+1} de {q}     ', end='\\r')\n",
        "    pond = np.array(np.random.random(len(df.columns)))\n",
        "    pond = pond/np.sum(pond)\n",
        "    r={}\n",
        "    r['retorno'] = np.sum( (retornos.mean() * pond * 365))\n",
        "    r['volatilidad'] = np.sqrt(np.dot(pond, np.dot(retornos.cov()*365, pond)))\n",
        "    r['sharpe'] = r['retorno'] / r['volatilidad'] \n",
        "    r['pesos'] = pond.round(4)\n",
        "    carteras.append(r)\n",
        "\n",
        "carteras = pd.DataFrame(carteras)\n",
        "optimo = carteras.loc[carteras['sharpe'].idxmax()]\n",
        "mejor_port = carteras.iloc[carteras['sharpe'].idxmax()]['pesos']\n",
        "\n",
        "datosTickers['ponderacion_optima'] = mejor_port"
      ],
      "metadata": {
        "colab": {
          "base_uri": "https://localhost:8080/"
        },
        "id": "37RUSgkd9LLm",
        "outputId": "45fdf7bb-60d1-4169-b762-b7d38f6fd46f"
      },
      "execution_count": null,
      "outputs": [
        {
          "output_type": "stream",
          "name": "stdout",
          "text": [
            ""
          ]
        }
      ]
    },
    {
      "cell_type": "code",
      "source": [
        "optimo"
      ],
      "metadata": {
        "colab": {
          "base_uri": "https://localhost:8080/"
        },
        "id": "NQif84tn9U7W",
        "outputId": "c4e7158f-5583-4a0f-a48f-f9342d907426"
      },
      "execution_count": null,
      "outputs": [
        {
          "output_type": "execute_result",
          "data": {
            "text/plain": [
              "retorno                0.923342\n",
              "volatilidad            0.805544\n",
              "sharpe                  1.14623\n",
              "pesos          [0.6402, 0.3598]\n",
              "Name: 4899, dtype: object"
            ]
          },
          "metadata": {},
          "execution_count": 5
        }
      ]
    },
    {
      "cell_type": "code",
      "source": [
        "import matplotlib.pyplot as plt\n",
        "\n",
        "fig, ax = plt.subplots(figsize=(13.5,7))\n",
        "\n",
        "plt.scatter(carteras.volatilidad, carteras.retorno, c=carteras.sharpe, s=1, cmap='rainbow')\n",
        "\n",
        "plt.colorbar(label='Sharpe Ratio', aspect=40)\n",
        "plt.xlabel('Volatilidad')\n",
        "plt.ylabel('Retorno')\n",
        "\n",
        "plt.scatter(optimo.volatilidad, optimo.retorno,c='k', alpha=1, s=100) \n",
        "\n",
        "opt_txt =  f'Sharpe Optimo {optimo.sharpe:.2f} \\nBTC={datosTickers.loc[\"bitcoin\",\"ponderacion_optima\"]:.0%}'\n",
        "opt_txt += f' ETH={datosTickers.loc[\"ethereum\",\"ponderacion_optima\"]:.0%}'\n",
        "\n",
        "plt.text(optimo.volatilidad+0.16, optimo.retorno-0.05, opt_txt, fontsize=11, c='k', ha='center', va='center') \n",
        "\n",
        "for ticker in df.columns:\n",
        "    vol = datosTickers.loc[ticker,'volatilidad'] \n",
        "    ret = datosTickers.loc[ticker,'retorno'] \n",
        "    plt.scatter(vol, ret,  alpha=1, c='gray', s=100) \n",
        "    ticker_txt = f\"{ticker} 100% \\n Sharpe = {datosTickers.loc[ticker,'sharpe']:.2f}\"\n",
        "    plt.text(vol, ret-0.08, ticker_txt, c='k', ha='center', va='center') \n",
        "    \n",
        "    \n",
        "free_risk = 0.05\n",
        "m = (optimo.retorno - free_risk) / (optimo.volatilidad)\n",
        "x2 = 1.5\n",
        "y2 = x2*m + free_risk\n",
        "ax.plot(np.linspace(0,x2), np.linspace(free_risk, y2), color='gray', ls='--')\n",
        "\n",
        "ax.set_xlim(0.0,1.4)\n",
        "ax.set_ylim(0.0,1.4)\n",
        "ax.grid(color='silver')\n",
        "ax.set_title('Markowitz optimal portfolio BTC + ETH')\n",
        "plt.show()"
      ],
      "metadata": {
        "colab": {
          "base_uri": "https://localhost:8080/",
          "height": 458
        },
        "id": "TYYcZFU09hLZ",
        "outputId": "44cf53ea-5a2e-426c-a53d-a524acecdf50"
      },
      "execution_count": null,
      "outputs": [
        {
          "output_type": "display_data",
          "data": {
            "image/png": "[encoded data removed]",
            "text/plain": [
              "<Figure size 972x504 with 2 Axes>"
            ]
          },
          "metadata": {
            "needs_background": "light"
          }
        }
      ]
    },
    {
      "cell_type": "code",
      "source": [
        "tickers = ['bitcoin','cardano','polkadot']\n",
        "\n",
        "series = []\n",
        "for ticker in tickers:\n",
        "    series.append(geckoHistorical(ticker)['price'].resample('D').last())\n",
        "    \n",
        "df = pd.concat(series, axis=1)\n",
        "df.columns = tickers\n",
        "\n",
        "retornos = np.log((df/df.shift(1)).dropna())\n",
        "datosTickers = []\n",
        "for ticker in retornos.columns:\n",
        "    d = {}\n",
        "    d['ticker'] = ticker\n",
        "    d['retorno'] = retornos[ticker].mean() * 365\n",
        "    d['volatilidad'] = retornos[ticker].std() * (365**0.5)\n",
        "    d['sharpe'] = d['retorno'] / d['volatilidad']\n",
        "    datosTickers.append(d)\n",
        "    \n",
        "\n",
        "datosTickers = pd.DataFrame(datosTickers).set_index('ticker')\n",
        "\n",
        "q = 5000\n",
        "carteras = [] \n",
        "\n",
        "for i in range(q):\n",
        "    print (f'Simulando portafolio N° {i+1} de {q}     ', end='\\r')\n",
        "    pond = np.array(np.random.random(len(df.columns)))\n",
        "    pond = pond/np.sum(pond)\n",
        "    r={}\n",
        "    r['retorno'] = np.sum( (retornos.mean() * pond * 365))\n",
        "    r['volatilidad'] = np.sqrt(np.dot(pond, np.dot(retornos.cov()*365, pond)))\n",
        "    r['sharpe'] = r['retorno'] / r['volatilidad'] \n",
        "    r['pesos'] = pond.round(4)\n",
        "    carteras.append(r)\n",
        "\n",
        "carteras = pd.DataFrame(carteras)\n",
        "optimo = carteras.loc[carteras['sharpe'].idxmax()]\n",
        "mejor_port = carteras.iloc[carteras['sharpe'].idxmax()]['pesos']\n",
        "\n",
        "datosTickers['ponderacion_optima'] = mejor_port\n",
        "datosTickers"
      ],
      "metadata": {
        "colab": {
          "base_uri": "https://localhost:8080/",
          "height": 175
        },
        "id": "xjXAMGyB9mVz",
        "outputId": "9ad7e497-4b9b-4ea5-da9b-95a4dcc4c23e"
      },
      "execution_count": null,
      "outputs": [
        {
          "output_type": "stream",
          "name": "stdout",
          "text": [
            ""
          ]
        },
        {
          "output_type": "execute_result",
          "data": {
            "text/html": [
              "\n",
              "  <div id=\"df-a7f068b9-3369-4550-bcfd-879f647ecfb7\">\n",
              "    <div class=\"colab-df-container\">\n",
              "      <div>\n",
              "<style scoped>\n",
              "    .dataframe tbody tr th:only-of-type {\n",
              "        vertical-align: middle;\n",
              "    }\n",
              "\n",
              "    .dataframe tbody tr th {\n",
              "        vertical-align: top;\n",
              "    }\n",
              "\n",
              "    .dataframe thead th {\n",
              "        text-align: right;\n",
              "    }\n",
              "</style>\n",
              "<table border=\"1\" class=\"dataframe\">\n",
              "  <thead>\n",
              "    <tr style=\"text-align: right;\">\n",
              "      <th></th>\n",
              "      <th>retorno</th>\n",
              "      <th>volatilidad</th>\n",
              "      <th>sharpe</th>\n",
              "      <th>ponderacion_optima</th>\n",
              "    </tr>\n",
              "    <tr>\n",
              "      <th>ticker</th>\n",
              "      <th></th>\n",
              "      <th></th>\n",
              "      <th></th>\n",
              "      <th></th>\n",
              "    </tr>\n",
              "  </thead>\n",
              "  <tbody>\n",
              "    <tr>\n",
              "      <th>bitcoin</th>\n",
              "      <td>0.884647</td>\n",
              "      <td>0.736814</td>\n",
              "      <td>1.200639</td>\n",
              "      <td>0.4282</td>\n",
              "    </tr>\n",
              "    <tr>\n",
              "      <th>cardano</th>\n",
              "      <td>1.666514</td>\n",
              "      <td>1.197885</td>\n",
              "      <td>1.391214</td>\n",
              "      <td>0.5254</td>\n",
              "    </tr>\n",
              "    <tr>\n",
              "      <th>polkadot</th>\n",
              "      <td>1.507497</td>\n",
              "      <td>1.449091</td>\n",
              "      <td>1.040305</td>\n",
              "      <td>0.0464</td>\n",
              "    </tr>\n",
              "  </tbody>\n",
              "</table>\n",
              "</div>\n",
              "      <button class=\"colab-df-convert\" onclick=\"convertToInteractive('df-a7f068b9-3369-4550-bcfd-879f647ecfb7')\"\n",
              "              title=\"Convert this dataframe to an interactive table.\"\n",
              "              style=\"display:none;\">\n",
              "        \n",
              "  <svg xmlns=\"http://www.w3.org/2000/svg\" height=\"24px\"viewBox=\"0 0 24 24\"\n",
              "       width=\"24px\">\n",
              "    <path d=\"M0 0h24v24H0V0z\" fill=\"none\"/>\n",
              "    <path d=\"M18.56 5.44l.94 2.06.94-2.06 2.06-.94-2.06-.94-.94-2.06-.94 2.06-2.06.94zm-11 1L8.5 8.5l.94-2.06 2.06-.94-2.06-.94L8.5 2.5l-.94 2.06-2.06.94zm10 10l.94 2.06.94-2.06 2.06-.94-2.06-.94-.94-2.06-.94 2.06-2.06.94z\"/><path d=\"M17.41 7.96l-1.37-1.37c-.4-.4-.92-.59-1.43-.59-.52 0-1.04.2-1.43.59L10.3 9.45l-7.72 7.72c-.78.78-.78 2.05 0 2.83L4 21.41c.39.39.9.59 1.41.59.51 0 1.02-.2 1.41-.59l7.78-7.78 2.81-2.81c.8-.78.8-2.07 0-2.86zM5.41 20L4 18.59l7.72-7.72 1.47 1.35L5.41 20z\"/>\n",
              "  </svg>\n",
              "      </button>\n",
              "      \n",
              "  <style>\n",
              "    .colab-df-container {\n",
              "      display:flex;\n",
              "      flex-wrap:wrap;\n",
              "      gap: 12px;\n",
              "    }\n",
              "\n",
              "    .colab-df-convert {\n",
              "      background-color: #E8F0FE;\n",
              "      border: none;\n",
              "      border-radius: 50%;\n",
              "      cursor: pointer;\n",
              "      display: none;\n",
              "      fill: #1967D2;\n",
              "      height: 32px;\n",
              "      padding: 0 0 0 0;\n",
              "      width: 32px;\n",
              "    }\n",
              "\n",
              "    .colab-df-convert:hover {\n",
              "      background-color: #E2EBFA;\n",
              "      box-shadow: 0px 1px 2px rgba(60, 64, 67, 0.3), 0px 1px 3px 1px rgba(60, 64, 67, 0.15);\n",
              "      fill: #174EA6;\n",
              "    }\n",
              "\n",
              "    [theme=dark] .colab-df-convert {\n",
              "      background-color: #3B4455;\n",
              "      fill: #D2E3FC;\n",
              "    }\n",
              "\n",
              "    [theme=dark] .colab-df-convert:hover {\n",
              "      background-color: #434B5C;\n",
              "      box-shadow: 0px 1px 3px 1px rgba(0, 0, 0, 0.15);\n",
              "      filter: drop-shadow(0px 1px 2px rgba(0, 0, 0, 0.3));\n",
              "      fill: #FFFFFF;\n",
              "    }\n",
              "  </style>\n",
              "\n",
              "      <script>\n",
              "        const buttonEl =\n",
              "          document.querySelector('#df-a7f068b9-3369-4550-bcfd-879f647ecfb7 button.colab-df-convert');\n",
              "        buttonEl.style.display =\n",
              "          google.colab.kernel.accessAllowed ? 'block' : 'none';\n",
              "\n",
              "        async function convertToInteractive(key) {\n",
              "          const element = document.querySelector('#df-a7f068b9-3369-4550-bcfd-879f647ecfb7');\n",
              "          const dataTable =\n",
              "            await google.colab.kernel.invokeFunction('convertToInteractive',\n",
              "                                                     [key], {});\n",
              "          if (!dataTable) return;\n",
              "\n",
              "          const docLinkHtml = 'Like what you see? Visit the ' +\n",
              "            '<a target=\"_blank\" href=https://colab.research.google.com/notebooks/data_table.ipynb>data table notebook</a>'\n",
              "            + ' to learn more about interactive tables.';\n",
              "          element.innerHTML = '';\n",
              "          dataTable['output_type'] = 'display_data';\n",
              "          await google.colab.output.renderOutput(dataTable, element);\n",
              "          const docLink = document.createElement('div');\n",
              "          docLink.innerHTML = docLinkHtml;\n",
              "          element.appendChild(docLink);\n",
              "        }\n",
              "      </script>\n",
              "    </div>\n",
              "  </div>\n",
              "  "
            ],
            "text/plain": [
              "           retorno  volatilidad    sharpe  ponderacion_optima\n",
              "ticker                                                       \n",
              "bitcoin   0.884647     0.736814  1.200639              0.4282\n",
              "cardano   1.666514     1.197885  1.391214              0.5254\n",
              "polkadot  1.507497     1.449091  1.040305              0.0464"
            ]
          },
          "metadata": {},
          "execution_count": 7
        }
      ]
    },
    {
      "cell_type": "code",
      "source": [
        "optimo"
      ],
      "metadata": {
        "colab": {
          "base_uri": "https://localhost:8080/"
        },
        "id": "BuaSUupDK5NH",
        "outputId": "f6896b8c-0fdf-4d5f-b4a8-3e3b3af15694"
      },
      "execution_count": null,
      "outputs": [
        {
          "output_type": "execute_result",
          "data": {
            "text/plain": [
              "retorno                         1.32435\n",
              "volatilidad                    0.903979\n",
              "sharpe                          1.46502\n",
              "pesos          [0.4282, 0.5254, 0.0464]\n",
              "Name: 3895, dtype: object"
            ]
          },
          "metadata": {},
          "execution_count": 8
        }
      ]
    },
    {
      "cell_type": "code",
      "source": [
        "fig, ax = plt.subplots(figsize=(13.5,7))\n",
        "\n",
        "plt.scatter(carteras.volatilidad, carteras.retorno, c=carteras.sharpe, s=1, cmap='rainbow')\n",
        "\n",
        "plt.colorbar(label='Sharpe Ratio', aspect=40)\n",
        "plt.xlabel('Volatilidad')\n",
        "plt.ylabel('Retorno')\n",
        "\n",
        "plt.scatter(optimo.volatilidad, optimo.retorno,c='k', alpha=1, s=100) \n",
        "\n",
        "opt_txt =  f'Sharpe Optimo {optimo.sharpe:.2f} \\nBTC={datosTickers.loc[\"bitcoin\",\"ponderacion_optima\"]:.0%}'\n",
        "opt_txt += f' ADA={datosTickers.loc[\"cardano\",\"ponderacion_optima\"]:.0%}'\n",
        "opt_txt += f' DOT={datosTickers.loc[\"polkadot\",\"ponderacion_optima\"]:.0%}'\n",
        "\n",
        "plt.text(optimo.volatilidad+0.16, optimo.retorno-0.05, opt_txt, fontsize=11, c='k', ha='center', va='center') \n",
        "\n",
        "for ticker in df.columns:\n",
        "    vol = datosTickers.loc[ticker,'volatilidad'] \n",
        "    ret = datosTickers.loc[ticker,'retorno'] \n",
        "    plt.scatter(vol, ret,  alpha=1, c='gray', s=100) \n",
        "    ticker_txt = f\"{ticker}\"\n",
        "    plt.text(vol, ret-0.08, ticker_txt, c='k', ha='center', va='center') \n",
        "    \n",
        "    \n",
        "free_risk = 0.05\n",
        "m = (optimo.retorno - free_risk) / (optimo.volatilidad)\n",
        "x2 = 1.5\n",
        "y2 = x2*m + free_risk\n",
        "ax.plot(np.linspace(0,x2), np.linspace(free_risk, y2), color='gray', ls='--')\n",
        "\n",
        "ax.set_xlim(0.0,1.6)\n",
        "ax.set_ylim(0.0,1.75)\n",
        "ax.grid(color='silver')\n",
        "ax.set_title('Markowitz optimal portfolio BTC + ADA + DOT')\n",
        "plt.show()"
      ],
      "metadata": {
        "colab": {
          "base_uri": "https://localhost:8080/",
          "height": 458
        },
        "id": "CGBOgZEoJIBj",
        "outputId": "415b1ef8-1fef-4c04-f6a8-d05cd65542d6"
      },
      "execution_count": null,
      "outputs": [
        {
          "output_type": "display_data",
          "data": {
            "image/png": "[encoded data removed]",
            "text/plain": [
              "<Figure size 972x504 with 2 Axes>"
            ]
          },
          "metadata": {
            "needs_background": "light"
          }
        }
      ]
    },
    {
      "cell_type": "code",
      "source": [
        "tickers = ['bitcoin','ethereum','cardano','polkadot']\n",
        "\n",
        "series = []\n",
        "for ticker in tickers:\n",
        "    series.append(geckoHistorical(ticker)['price'].resample('D').last())\n",
        "    \n",
        "df = pd.concat(series, axis=1)\n",
        "df.columns = tickers\n",
        "\n",
        "retornos = np.log((df/df.shift(1)).dropna())\n",
        "\n",
        "print('\\n\\nMatriz de Correlacion entre BTC-ETH-ADA-DOT')\n",
        "retornos.corr().style.background_gradient(cmap='Blues')\n"
      ],
      "metadata": {
        "id": "3WKN3XS6JQV6",
        "colab": {
          "base_uri": "https://localhost:8080/",
          "height": 229
        },
        "outputId": "9d97dbc3-6a41-4bbe-844d-fcbfb2eed734"
      },
      "execution_count": null,
      "outputs": [
        {
          "output_type": "stream",
          "name": "stdout",
          "text": [
            "\n",
            "\n",
            "Matriz de Correlacion entre BTC-ETH-ADA-DOT\n"
          ]
        },
        {
          "output_type": "execute_result",
          "data": {
            "text/html": [
              "<style  type=\"text/css\" >\n",
              "#T_85304892_78b3_11ec_8fa7_0242ac1c0002row0_col0,#T_85304892_78b3_11ec_8fa7_0242ac1c0002row1_col1,#T_85304892_78b3_11ec_8fa7_0242ac1c0002row2_col2,#T_85304892_78b3_11ec_8fa7_0242ac1c0002row3_col3{\n",
              "            background-color:  #08306b;\n",
              "            color:  #f1f1f1;\n",
              "        }#T_85304892_78b3_11ec_8fa7_0242ac1c0002row0_col1{\n",
              "            background-color:  #b8d5ea;\n",
              "            color:  #000000;\n",
              "        }#T_85304892_78b3_11ec_8fa7_0242ac1c0002row0_col2{\n",
              "            background-color:  #f6faff;\n",
              "            color:  #000000;\n",
              "        }#T_85304892_78b3_11ec_8fa7_0242ac1c0002row0_col3{\n",
              "            background-color:  #edf4fc;\n",
              "            color:  #000000;\n",
              "        }#T_85304892_78b3_11ec_8fa7_0242ac1c0002row1_col0{\n",
              "            background-color:  #8fc2de;\n",
              "            color:  #000000;\n",
              "        }#T_85304892_78b3_11ec_8fa7_0242ac1c0002row1_col2{\n",
              "            background-color:  #d6e5f4;\n",
              "            color:  #000000;\n",
              "        }#T_85304892_78b3_11ec_8fa7_0242ac1c0002row1_col3{\n",
              "            background-color:  #ccdff1;\n",
              "            color:  #000000;\n",
              "        }#T_85304892_78b3_11ec_8fa7_0242ac1c0002row2_col0,#T_85304892_78b3_11ec_8fa7_0242ac1c0002row2_col1,#T_85304892_78b3_11ec_8fa7_0242ac1c0002row2_col3,#T_85304892_78b3_11ec_8fa7_0242ac1c0002row3_col2{\n",
              "            background-color:  #f7fbff;\n",
              "            color:  #000000;\n",
              "        }#T_85304892_78b3_11ec_8fa7_0242ac1c0002row3_col0{\n",
              "            background-color:  #eef5fc;\n",
              "            color:  #000000;\n",
              "        }#T_85304892_78b3_11ec_8fa7_0242ac1c0002row3_col1{\n",
              "            background-color:  #ebf3fb;\n",
              "            color:  #000000;\n",
              "        }</style><table id=\"T_85304892_78b3_11ec_8fa7_0242ac1c0002\" class=\"dataframe\"><thead>    <tr>        <th class=\"blank level0\" ></th>        <th class=\"col_heading level0 col0\" >bitcoin</th>        <th class=\"col_heading level0 col1\" >ethereum</th>        <th class=\"col_heading level0 col2\" >cardano</th>        <th class=\"col_heading level0 col3\" >polkadot</th>    </tr></thead><tbody>\n",
              "                <tr>\n",
              "                        <th id=\"T_85304892_78b3_11ec_8fa7_0242ac1c0002level0_row0\" class=\"row_heading level0 row0\" >bitcoin</th>\n",
              "                        <td id=\"T_85304892_78b3_11ec_8fa7_0242ac1c0002row0_col0\" class=\"data row0 col0\" >1.000000</td>\n",
              "                        <td id=\"T_85304892_78b3_11ec_8fa7_0242ac1c0002row0_col1\" class=\"data row0 col1\" >0.766657</td>\n",
              "                        <td id=\"T_85304892_78b3_11ec_8fa7_0242ac1c0002row0_col2\" class=\"data row0 col2\" >0.603774</td>\n",
              "                        <td id=\"T_85304892_78b3_11ec_8fa7_0242ac1c0002row0_col3\" class=\"data row0 col3\" >0.621646</td>\n",
              "            </tr>\n",
              "            <tr>\n",
              "                        <th id=\"T_85304892_78b3_11ec_8fa7_0242ac1c0002level0_row1\" class=\"row_heading level0 row1\" >ethereum</th>\n",
              "                        <td id=\"T_85304892_78b3_11ec_8fa7_0242ac1c0002row1_col0\" class=\"data row1 col0\" >0.766657</td>\n",
              "                        <td id=\"T_85304892_78b3_11ec_8fa7_0242ac1c0002row1_col1\" class=\"data row1 col1\" >1.000000</td>\n",
              "                        <td id=\"T_85304892_78b3_11ec_8fa7_0242ac1c0002row1_col2\" class=\"data row1 col2\" >0.668488</td>\n",
              "                        <td id=\"T_85304892_78b3_11ec_8fa7_0242ac1c0002row1_col3\" class=\"data row1 col3\" >0.688311</td>\n",
              "            </tr>\n",
              "            <tr>\n",
              "                        <th id=\"T_85304892_78b3_11ec_8fa7_0242ac1c0002level0_row2\" class=\"row_heading level0 row2\" >cardano</th>\n",
              "                        <td id=\"T_85304892_78b3_11ec_8fa7_0242ac1c0002row2_col0\" class=\"data row2 col0\" >0.603774</td>\n",
              "                        <td id=\"T_85304892_78b3_11ec_8fa7_0242ac1c0002row2_col1\" class=\"data row2 col1\" >0.668488</td>\n",
              "                        <td id=\"T_85304892_78b3_11ec_8fa7_0242ac1c0002row2_col2\" class=\"data row2 col2\" >1.000000</td>\n",
              "                        <td id=\"T_85304892_78b3_11ec_8fa7_0242ac1c0002row2_col3\" class=\"data row2 col3\" >0.600743</td>\n",
              "            </tr>\n",
              "            <tr>\n",
              "                        <th id=\"T_85304892_78b3_11ec_8fa7_0242ac1c0002level0_row3\" class=\"row_heading level0 row3\" >polkadot</th>\n",
              "                        <td id=\"T_85304892_78b3_11ec_8fa7_0242ac1c0002row3_col0\" class=\"data row3 col0\" >0.621646</td>\n",
              "                        <td id=\"T_85304892_78b3_11ec_8fa7_0242ac1c0002row3_col1\" class=\"data row3 col1\" >0.688311</td>\n",
              "                        <td id=\"T_85304892_78b3_11ec_8fa7_0242ac1c0002row3_col2\" class=\"data row3 col2\" >0.600743</td>\n",
              "                        <td id=\"T_85304892_78b3_11ec_8fa7_0242ac1c0002row3_col3\" class=\"data row3 col3\" >1.000000</td>\n",
              "            </tr>\n",
              "    </tbody></table>"
            ],
            "text/plain": [
              "<pandas.io.formats.style.Styler at 0x7fbc313c3990>"
            ]
          },
          "metadata": {},
          "execution_count": 10
        }
      ]
    },
    {
      "cell_type": "markdown",
      "source": [
        "<br>"
      ],
      "metadata": {
        "id": "BgGCNOODbyiC"
      }
    },
    {
      "cell_type": "code",
      "source": [
        ""
      ],
      "metadata": {
        "id": "XLAGT0BUaUZF"
      },
      "execution_count": null,
      "outputs": []
    }
  ]
}