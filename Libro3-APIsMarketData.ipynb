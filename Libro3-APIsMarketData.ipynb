{
 "cells": [
  {
   "cell_type": "markdown",
   "source": [
    "# Sigo el libro página 47"
   ],
   "metadata": {}
  },
  {
   "cell_type": "code",
   "execution_count": null,
   "source": [
    "import pandas as pd\r\n",
    "import requests\r\n",
    "import json\r\n",
    "\r\n",
    "token = '2RG2NEF3IPXMIPX3'\r\n",
    "token2= 'ZOW97SMSE5U3FPYU'\r\n",
    "\r\n",
    "# definición de variables\r\n",
    "\r\n",
    "function = 'TIME_SERIES_DAILY' \r\n",
    "symbol = 'GGAL'\r\n",
    "# interval = '15min'\r\n",
    "\r\n",
    "# concatenar el link\r\n",
    "\r\n",
    "urlBase = 'https://www.alphavantage.co/query'\r\n",
    "url = urlBase+ '?function=' + function\r\n",
    "url += '&symbol=' + str(symbol)\r\n",
    "url += '&outputsize=compact'\r\n",
    "url += '&apikey=' + token\r\n",
    "\r\n",
    "print(url)\r\n",
    "# print('https://www.alphavantage.co/query?function=TIME_SERIES_INTRADAY&symbol=IBM&interval=5min&apikey=demo')\r\n",
    "# acá hago el llamado/request\r\n",
    "\r\n",
    "r = requests.get(url)\r\n",
    "# r = requests.get(url)\r\n",
    "# print(r.json())\r\n",
    "\r\n",
    "data = r.json()['Time Series (Daily)']\r\n",
    "dataDF = pd.DataFrame.from_dict(data, orient='index')\r\n",
    "dataDF\r\n"
   ],
   "outputs": [],
   "metadata": {}
  },
  {
   "cell_type": "code",
   "execution_count": null,
   "source": [
    "# definición de variables\r\n",
    "\r\n",
    "function = 'SYMBOL_SEARCH' \r\n",
    "keywords = 'AAPL'\r\n",
    "# interval = '15min'\r\n",
    "\r\n",
    "# concatenar el link\r\n",
    "\r\n",
    "urlBase = 'https://www.alphavantage.co/query'\r\n",
    "url = urlBase+ '?function=' + function\r\n",
    "url += '&keywords=' + str(keywords)\r\n",
    "url += '&apikey=' + token\r\n",
    "\r\n",
    "print(url)\r\n",
    "r = requests.get(url)\r\n",
    "\r\n",
    "data = r.json()\r\n",
    "print(data)"
   ],
   "outputs": [],
   "metadata": {}
  }
 ],
 "metadata": {
  "orig_nbformat": 4,
  "language_info": {
   "name": "python",
   "version": "3.9.6",
   "mimetype": "text/x-python",
   "codemirror_mode": {
    "name": "ipython",
    "version": 3
   },
   "pygments_lexer": "ipython3",
   "nbconvert_exporter": "python",
   "file_extension": ".py"
  },
  "kernelspec": {
   "name": "python3",
   "display_name": "Python 3.9.6 64-bit"
  },
  "interpreter": {
   "hash": "6ce828bc5515109ea1ce7cfb95dd1b30fcf73c560d0701c303bc02f32a49457e"
  }
 },
 "nbformat": 4,
 "nbformat_minor": 2
}