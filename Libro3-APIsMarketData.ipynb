{
 "cells": [
  {
   "cell_type": "markdown",
   "metadata": {},
   "source": [
    "# Sigo el libro página 47"
   ]
  },
  {
   "cell_type": "code",
   "execution_count": 4,
   "metadata": {},
   "outputs": [
    {
     "name": "stdout",
     "output_type": "stream",
     "text": [
      "https://www.alphavantage.co/query?function=TIME_SERIES_DAILY&symbol=GGAL&outputsize=compact&apikey=2RG2NEF3IPXMIPX3\n"
     ]
    },
    {
     "data": {
      "text/html": [
       "<div>\n",
       "<style scoped>\n",
       "    .dataframe tbody tr th:only-of-type {\n",
       "        vertical-align: middle;\n",
       "    }\n",
       "\n",
       "    .dataframe tbody tr th {\n",
       "        vertical-align: top;\n",
       "    }\n",
       "\n",
       "    .dataframe thead th {\n",
       "        text-align: right;\n",
       "    }\n",
       "</style>\n",
       "<table border=\"1\" class=\"dataframe\">\n",
       "  <thead>\n",
       "    <tr style=\"text-align: right;\">\n",
       "      <th></th>\n",
       "      <th>1. open</th>\n",
       "      <th>2. high</th>\n",
       "      <th>3. low</th>\n",
       "      <th>4. close</th>\n",
       "      <th>5. volume</th>\n",
       "    </tr>\n",
       "  </thead>\n",
       "  <tbody>\n",
       "    <tr>\n",
       "      <th>2021-10-21</th>\n",
       "      <td>11.5700</td>\n",
       "      <td>11.6900</td>\n",
       "      <td>11.1000</td>\n",
       "      <td>11.4000</td>\n",
       "      <td>828602</td>\n",
       "    </tr>\n",
       "    <tr>\n",
       "      <th>2021-10-20</th>\n",
       "      <td>10.8400</td>\n",
       "      <td>11.7270</td>\n",
       "      <td>10.8400</td>\n",
       "      <td>11.7100</td>\n",
       "      <td>1277817</td>\n",
       "    </tr>\n",
       "    <tr>\n",
       "      <th>2021-10-19</th>\n",
       "      <td>10.9000</td>\n",
       "      <td>11.0200</td>\n",
       "      <td>10.6800</td>\n",
       "      <td>10.9200</td>\n",
       "      <td>460057</td>\n",
       "    </tr>\n",
       "    <tr>\n",
       "      <th>2021-10-18</th>\n",
       "      <td>10.8500</td>\n",
       "      <td>10.9200</td>\n",
       "      <td>10.5340</td>\n",
       "      <td>10.7700</td>\n",
       "      <td>705048</td>\n",
       "    </tr>\n",
       "    <tr>\n",
       "      <th>2021-10-15</th>\n",
       "      <td>10.4400</td>\n",
       "      <td>10.8299</td>\n",
       "      <td>10.4100</td>\n",
       "      <td>10.7400</td>\n",
       "      <td>791918</td>\n",
       "    </tr>\n",
       "    <tr>\n",
       "      <th>...</th>\n",
       "      <td>...</td>\n",
       "      <td>...</td>\n",
       "      <td>...</td>\n",
       "      <td>...</td>\n",
       "      <td>...</td>\n",
       "    </tr>\n",
       "    <tr>\n",
       "      <th>2021-06-08</th>\n",
       "      <td>10.2200</td>\n",
       "      <td>10.3400</td>\n",
       "      <td>9.6800</td>\n",
       "      <td>9.7700</td>\n",
       "      <td>1403637</td>\n",
       "    </tr>\n",
       "    <tr>\n",
       "      <th>2021-06-07</th>\n",
       "      <td>10.0000</td>\n",
       "      <td>10.4300</td>\n",
       "      <td>9.9700</td>\n",
       "      <td>10.2100</td>\n",
       "      <td>1981333</td>\n",
       "    </tr>\n",
       "    <tr>\n",
       "      <th>2021-06-04</th>\n",
       "      <td>9.4100</td>\n",
       "      <td>9.9900</td>\n",
       "      <td>9.2700</td>\n",
       "      <td>9.9300</td>\n",
       "      <td>1254459</td>\n",
       "    </tr>\n",
       "    <tr>\n",
       "      <th>2021-06-03</th>\n",
       "      <td>8.9700</td>\n",
       "      <td>9.4800</td>\n",
       "      <td>8.9100</td>\n",
       "      <td>9.3700</td>\n",
       "      <td>2067270</td>\n",
       "    </tr>\n",
       "    <tr>\n",
       "      <th>2021-06-02</th>\n",
       "      <td>9.0900</td>\n",
       "      <td>9.3300</td>\n",
       "      <td>8.9400</td>\n",
       "      <td>9.0700</td>\n",
       "      <td>1295461</td>\n",
       "    </tr>\n",
       "  </tbody>\n",
       "</table>\n",
       "<p>100 rows × 5 columns</p>\n",
       "</div>"
      ],
      "text/plain": [
       "            1. open  2. high   3. low 4. close 5. volume\n",
       "2021-10-21  11.5700  11.6900  11.1000  11.4000    828602\n",
       "2021-10-20  10.8400  11.7270  10.8400  11.7100   1277817\n",
       "2021-10-19  10.9000  11.0200  10.6800  10.9200    460057\n",
       "2021-10-18  10.8500  10.9200  10.5340  10.7700    705048\n",
       "2021-10-15  10.4400  10.8299  10.4100  10.7400    791918\n",
       "...             ...      ...      ...      ...       ...\n",
       "2021-06-08  10.2200  10.3400   9.6800   9.7700   1403637\n",
       "2021-06-07  10.0000  10.4300   9.9700  10.2100   1981333\n",
       "2021-06-04   9.4100   9.9900   9.2700   9.9300   1254459\n",
       "2021-06-03   8.9700   9.4800   8.9100   9.3700   2067270\n",
       "2021-06-02   9.0900   9.3300   8.9400   9.0700   1295461\n",
       "\n",
       "[100 rows x 5 columns]"
      ]
     },
     "execution_count": 4,
     "metadata": {},
     "output_type": "execute_result"
    }
   ],
   "source": [
    "import pandas as pd\n",
    "import requests\n",
    "import json\n",
    "\n",
    "token = '2RG2NEF3IPXMIPX3'\n",
    "token2= 'ZOW97SMSE5U3FPYU'\n",
    "\n",
    "# definición de variables\n",
    "\n",
    "function = 'TIME_SERIES_DAILY' \n",
    "symbol = 'GGAL'\n",
    "# interval = '15min'\n",
    "\n",
    "# concatenar el link\n",
    "\n",
    "urlBase = 'https://www.alphavantage.co/query'\n",
    "url = urlBase+ '?function=' + function\n",
    "url += '&symbol=' + str(symbol)\n",
    "url += '&outputsize=compact'\n",
    "url += '&apikey=' + token\n",
    "\n",
    "print(url)\n",
    "# print('https://www.alphavantage.co/query?function=TIME_SERIES_INTRADAY&symbol=IBM&interval=5min&apikey=demo')\n",
    "# acá hago el llamado/request\n",
    "\n",
    "r = requests.get(url)\n",
    "# r = requests.get(url)\n",
    "# print(r.json())\n",
    "\n",
    "data = r.json()['Time Series (Daily)']\n",
    "dataDF = pd.DataFrame.from_dict(data, orient='index')\n"
   ]
  },
  {
   "cell_type": "markdown",
   "metadata": {},
   "source": [
    "# Buscar un ticker"
   ]
  },
  {
   "cell_type": "code",
   "execution_count": 3,
   "metadata": {},
   "outputs": [
    {
     "name": "stdout",
     "output_type": "stream",
     "text": [
      "https://www.alphavantage.co/query?function=SYMBOL_SEARCH&keywords=AAPL&apikey=2RG2NEF3IPXMIPX3\n",
      "[{'1. symbol': 'AAPL', '2. name': 'Apple Inc', '3. type': 'Equity', '4. region': 'United States', '5. marketOpen': '09:30', '6. marketClose': '16:00', '7. timezone': 'UTC-04', '8. currency': 'USD', '9. matchScore': '1.0000'}, {'1. symbol': 'AAPL34.SAO', '2. name': 'Apple Inc', '3. type': 'Equity', '4. region': 'Brazil/Sao Paolo', '5. marketOpen': '10:00', '6. marketClose': '17:30', '7. timezone': 'UTC-03', '8. currency': 'BRL', '9. matchScore': '0.6154'}]\n"
     ]
    }
   ],
   "source": [
    "# definición de variables\n",
    "\n",
    "function = 'SYMBOL_SEARCH' \n",
    "keywords = 'AAPL'\n",
    "# interval = '15min'\n",
    "\n",
    "# concatenar el link\n",
    "\n",
    "urlBase = 'https://www.alphavantage.co/query'\n",
    "url = urlBase+ '?function=' + function\n",
    "url += '&keywords=' + str(keywords)\n",
    "url += '&apikey=' + token\n",
    "\n",
    "print(url)\n",
    "r = requests.get(url)\n",
    "\n",
    "data = r.json()\n",
    "print(data['bestMatches'])"
   ]
  },
  {
   "cell_type": "markdown",
   "metadata": {},
   "source": [
    "# Ojo con los tipos. Redondear no funciona con Strings\n",
    "Ya lo hice en misfunciones.py"
   ]
  },
  {
   "cell_type": "markdown",
   "metadata": {},
   "source": [
    "# Funcion con precios ajustados"
   ]
  },
  {
   "cell_type": "code",
   "execution_count": 8,
   "metadata": {},
   "outputs": [],
   "source": [
    "def getDailyAdj(symbol, size):\n",
    "    function='TIME_SERIES_DAILY_ADJUSTED'\n",
    "    url = 'http://www.alphavantage.com/query'\n",
    "    parametros = {'function' : function,\n",
    "                  'symbol' : symbol,\n",
    "                  'outputsize' : size,\n",
    "                  'apikey' : token\n",
    "                }\n",
    "    r = requests.get(url, params=parametros)\n",
    "    print(r.json())\n",
    "    data = r.json()['Time Series (Daily)']\n",
    "    dataDF = pd.DataFrame.from_dict(data, orient='index')\n",
    "    dataDF = dataDF.astype('float')\n",
    "    dataDF.index.name = 'Date'\n",
    "    # data.columns = []\n",
    "    dataDF = dataDF.sort_values('Date', ascending=True).round(2)\n",
    "    dataDF.index = pd.to_datetime(dataDF.index)\n",
    "    return dataDF"
   ]
  },
  {
   "cell_type": "code",
   "execution_count": 9,
   "metadata": {},
   "outputs": [
    {
     "name": "stdout",
     "output_type": "stream",
     "text": [
      "404\n"
     ]
    },
    {
     "ename": "TypeError",
     "evalue": "'int' object is not subscriptable",
     "output_type": "error",
     "traceback": [
      "\u001b[1;31m---------------------------------------------------------------------------\u001b[0m",
      "\u001b[1;31mTypeError\u001b[0m                                 Traceback (most recent call last)",
      "\u001b[1;32m~\\AppData\\Local\\Temp/ipykernel_4316/1928255889.py\u001b[0m in \u001b[0;36m<module>\u001b[1;34m\u001b[0m\n\u001b[1;32m----> 1\u001b[1;33m \u001b[0mdata\u001b[0m \u001b[1;33m=\u001b[0m \u001b[0mgetDailyAdj\u001b[0m\u001b[1;33m(\u001b[0m\u001b[0msymbol\u001b[0m\u001b[1;33m=\u001b[0m\u001b[1;34m'AAPL'\u001b[0m\u001b[1;33m,\u001b[0m \u001b[0msize\u001b[0m\u001b[1;33m=\u001b[0m\u001b[1;34m'compact'\u001b[0m\u001b[1;33m)\u001b[0m\u001b[1;33m\u001b[0m\u001b[1;33m\u001b[0m\u001b[0m\n\u001b[0m\u001b[0;32m      2\u001b[0m \u001b[0mdata\u001b[0m\u001b[1;33m\u001b[0m\u001b[1;33m\u001b[0m\u001b[0m\n",
      "\u001b[1;32m~\\AppData\\Local\\Temp/ipykernel_4316/1053005698.py\u001b[0m in \u001b[0;36mgetDailyAdj\u001b[1;34m(symbol, size)\u001b[0m\n\u001b[0;32m      9\u001b[0m     \u001b[0mr\u001b[0m \u001b[1;33m=\u001b[0m \u001b[0mrequests\u001b[0m\u001b[1;33m.\u001b[0m\u001b[0mget\u001b[0m\u001b[1;33m(\u001b[0m\u001b[0murl\u001b[0m\u001b[1;33m,\u001b[0m \u001b[0mparams\u001b[0m\u001b[1;33m=\u001b[0m\u001b[0mparametros\u001b[0m\u001b[1;33m)\u001b[0m\u001b[1;33m\u001b[0m\u001b[1;33m\u001b[0m\u001b[0m\n\u001b[0;32m     10\u001b[0m     \u001b[0mprint\u001b[0m\u001b[1;33m(\u001b[0m\u001b[0mr\u001b[0m\u001b[1;33m.\u001b[0m\u001b[0mjson\u001b[0m\u001b[1;33m(\u001b[0m\u001b[1;33m)\u001b[0m\u001b[1;33m)\u001b[0m\u001b[1;33m\u001b[0m\u001b[1;33m\u001b[0m\u001b[0m\n\u001b[1;32m---> 11\u001b[1;33m     \u001b[0mdata\u001b[0m \u001b[1;33m=\u001b[0m \u001b[0mr\u001b[0m\u001b[1;33m.\u001b[0m\u001b[0mjson\u001b[0m\u001b[1;33m(\u001b[0m\u001b[1;33m)\u001b[0m\u001b[1;33m[\u001b[0m\u001b[1;34m'Time Series (Daily)'\u001b[0m\u001b[1;33m]\u001b[0m\u001b[1;33m\u001b[0m\u001b[1;33m\u001b[0m\u001b[0m\n\u001b[0m\u001b[0;32m     12\u001b[0m     \u001b[0mdataDF\u001b[0m \u001b[1;33m=\u001b[0m \u001b[0mpd\u001b[0m\u001b[1;33m.\u001b[0m\u001b[0mDataFrame\u001b[0m\u001b[1;33m.\u001b[0m\u001b[0mfrom_dict\u001b[0m\u001b[1;33m(\u001b[0m\u001b[0mdata\u001b[0m\u001b[1;33m,\u001b[0m \u001b[0morient\u001b[0m\u001b[1;33m=\u001b[0m\u001b[1;34m'index'\u001b[0m\u001b[1;33m)\u001b[0m\u001b[1;33m\u001b[0m\u001b[1;33m\u001b[0m\u001b[0m\n\u001b[0;32m     13\u001b[0m     \u001b[0mdataDF\u001b[0m \u001b[1;33m=\u001b[0m \u001b[0mdataDF\u001b[0m\u001b[1;33m.\u001b[0m\u001b[0mastype\u001b[0m\u001b[1;33m(\u001b[0m\u001b[1;34m'float'\u001b[0m\u001b[1;33m)\u001b[0m\u001b[1;33m\u001b[0m\u001b[1;33m\u001b[0m\u001b[0m\n",
      "\u001b[1;31mTypeError\u001b[0m: 'int' object is not subscriptable"
     ]
    }
   ],
   "source": [
    "data = getDailyAdj(symbol='AAPL', size='compact')\n",
    "data"
   ]
  }
 ],
 "metadata": {
  "interpreter": {
   "hash": "186d8d91d0a2c4201230aea084efaf4e33b7d92a502e42db9f07f6f3b8511506"
  },
  "kernelspec": {
   "display_name": "Python 3.9.7 64-bit",
   "name": "python3"
  },
  "language_info": {
   "codemirror_mode": {
    "name": "ipython",
    "version": 3
   },
   "file_extension": ".py",
   "mimetype": "text/x-python",
   "name": "python",
   "nbconvert_exporter": "python",
   "pygments_lexer": "ipython3",
   "version": "3.9.7"
  },
  "orig_nbformat": 4
 },
 "nbformat": 4,
 "nbformat_minor": 2
}
