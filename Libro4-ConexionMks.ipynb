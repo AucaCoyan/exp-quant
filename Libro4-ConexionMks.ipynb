{
 "cells": [
  {
   "cell_type": "markdown",
   "metadata": {},
   "source": [
    "# Libro 4 - Conexión Mks"
   ]
  },
  {
   "cell_type": "code",
   "execution_count": 9,
   "metadata": {},
   "outputs": [],
   "source": [
    "import requests\n",
    "import os\n",
    "\n",
    "Usuario = os.environ.get('UsuarioIOL')\n",
    "password = os.environ.get('ContraseñaIOL')\n",
    " \n",
    "def pedirToken():\n",
    "    url = 'https://api.invertironline.com/token'\n",
    "    data = {\n",
    "        \"Username\" : Usuario,\n",
    "        \"password\" : password,\n",
    "        \"Grant_type\" : \"password\",\n",
    "        }\n",
    "    r = requests.post(url= url, data= data).json()\n",
    "    return r\n",
    "\n",
    "dict_tk = pedirToken()\n"
   ]
  },
  {
   "cell_type": "code",
   "execution_count": 10,
   "metadata": {},
   "outputs": [
    {
     "data": {
      "text/plain": [
       "{'access_token': 'eBK0rQifDbuVr0OgJE_um0n1TBUaZKa8vU9zqps3gGndLlwampl4rbsgbBGqudk1fbx-y9zn4oPK6fvaKSxgE6YgIeihZmNB2z73uJ_q9iT5NW-DhCOnNPxo_NeadVrYb0QxKWWibORwFY2wSg7pLGfqLyuj8ZKJJwSAcdW08xZQNZDP4EiD-O-FOsR5_P06OYSOnRdp_jKOF2RYjLFJKH3LrQ2AvDtwIQiueCIo1gcVMq-UU9myiuALiF0WiTk9_EfyEwLZC5Mu17aRxLZOglYTFj_WQwJQbeoKzvMVKvxeMP9byxCwKKuV9kphe0Svqps0Izj7HP8GpxvyWVCaedH3LNF7gX2JUiCCbJ1Fl3fYIvdh3hdKjzrn_-kEj-NJwurQPgWwXMKS-PTimL0-WeZ91Z4SB2kR8kDT99UPSm0',\n",
       " 'token_type': 'bearer',\n",
       " 'expires_in': 899,\n",
       " 'refresh_token': 'OVoC8OpUg6GPYiH_LEdKoaykPvzFmqJt5jbyeo02FVAPyIgZ4b8YspK1WM1XT7DHtiHEe-PbHi08-uL3KoLbg8-tklln4wjxwq1AmyaULIWNbcA7eOXxqikUZck7mfc_MckRyY3tngp7owwNBwkWeCAdVsgCfNlJaKDfL_jPFaaNi9wtsNCAbKfQpsOo0r4yFcBBE0UnYVcEsvU_ybsisqZZy3yH2AalOYM56oVlz8USget4vPIZAxQuufPmfP4g3wVspWnXSihNtJD8_QMuO9tEQntrVnKpAqiSFJygeSz5Z-xExR9sQatzD5ZCVZVNYKMtj1eHkT5TogzqbpCYNnU20YeSuEI8dO3L5mOCNUco-qdixyTcNKMJFUlMKsUMrWZi32XrA1-zO5sYeNW-W2tJQAHRbfzSJWXiadUvGjE',\n",
       " '.issued': 'Tue, 16 Nov 2021 14:16:52 GMT',\n",
       " '.expires': 'Tue, 16 Nov 2021 14:31:52 GMT',\n",
       " '.refreshexpires': 'Tue, 16 Nov 2021 15:16:52 GMT'}"
      ]
     },
     "execution_count": 10,
     "metadata": {},
     "output_type": "execute_result"
    }
   ],
   "source": [
    "dict_tk"
   ]
  },
  {
   "cell_type": "code",
   "execution_count": 8,
   "metadata": {},
   "outputs": [
    {
     "data": {
      "text/plain": [
       "'GAQbs5PcwzOCqG6hlp3qujN-YRbO4ilr4lsq7go9R6r0KscGtySZEY7xbZJwABW5jVWKEGH_YjEYtXzng4BaRT0-4BUz5y3Ur0rYX2fueRcwLYhh7ZNacSDmRXSRKXyaiS3KnCZiAUttnD2chWY4aw0ZUJLH4oIhNbNdTmGCEbJ8mE2KbuBtThCnMI-v8iGWLItCPcvmTE1ZLuEppwFHX7LG0f37ZxyOf2d6-SJMppNum82d-T3ygIntb5o2Lh8A4KXBXpBpLK8FksAiwxlZ1ykmzfsWPxt8Hn2hz4pgCNoxsm1oH5GNq-LBSzaDDpunH6MT53eSljTK34lvlEfs3psfYoiOLB4HihxSCHPG2G7YiI3txQ58Hab-AjAXtNjyYSoaj2U1QRIeouJJ7FEo3hdiwIIW-QZD0z8j-EuFg_I'"
      ]
     },
     "execution_count": 8,
     "metadata": {},
     "output_type": "execute_result"
    }
   ],
   "source": [
    "tk = dict_tk['access_token']\n",
    "tk"
   ]
  },
  {
   "cell_type": "markdown",
   "metadata": {},
   "source": [
    "## Queda pendiente para agregar funciones para chequear si el token venció\n",
    "## y el reemplazo por un token nuevo"
   ]
  },
  {
   "cell_type": "markdown",
   "metadata": {},
   "source": [
    "# MarketData\n",
    "Precios históricos"
   ]
  },
  {
   "cell_type": "code",
   "execution_count": 4,
   "metadata": {},
   "outputs": [],
   "source": [
    "import pandas as pd"
   ]
  },
  {
   "cell_type": "code",
   "execution_count": 5,
   "metadata": {},
   "outputs": [],
   "source": [
    "def getHist(ticker, FROM, TO):\n",
    "    \"\"\"Obtiene los valores de IOL API\n",
    "    \"\"\"\n",
    "    # Configuración del llamado a la API\n",
    "    url_base = 'https://api.invertironline.com/api/v2/'\n",
    "    endpoint = 'bCBA/Titulos' + ticker + '/Cotizacion/seriehistorica'\n",
    "    endpoint +=FROM + '/' + TO + '/sinAjustar'\n",
    "\n",
    "    url = url_base + endpoint\n",
    "    headers = {\n",
    "        \"Autorization\" : \"Bearer\" + tk\n",
    "    }\n",
    "\n",
    "    # Llamado a la API\n",
    "    data = requests.get(url=url, headers=headers) # .json()\n",
    "    print(data)\n",
    "    \"\"\"     # Acomodamos la tabla\n",
    "    tabla = pd.DataFrame(data).set_index('fechaHora')\n",
    "    tabla.index = pd.to_datetime(tabla.index)\n",
    "    tabla = tabla.resample('d').last()\n",
    "    # tabla = tabla.drop(['moneda', 'interesesAbiertos', 'puntas'], axis=1)\n",
    "    \"\"\"    \n",
    "    return # (tabla)"
   ]
  },
  {
   "cell_type": "code",
   "execution_count": 6,
   "metadata": {},
   "outputs": [
    {
     "name": "stdout",
     "output_type": "stream",
     "text": [
      "<Response [500]>\n"
     ]
    }
   ],
   "source": [
    "data = getHist('GGAL', FROM='2015-01-01', TO='2021-11-15')\n",
    "\n",
    "# Mostramos las columnas que trajimos\n",
    "# data.columns"
   ]
  }
 ],
 "metadata": {
  "interpreter": {
   "hash": "186d8d91d0a2c4201230aea084efaf4e33b7d92a502e42db9f07f6f3b8511506"
  },
  "kernelspec": {
   "display_name": "Python 3.9.5 64-bit",
   "language": "python",
   "name": "python3"
  },
  "language_info": {
   "codemirror_mode": {
    "name": "ipython",
    "version": 3
   },
   "file_extension": ".py",
   "mimetype": "text/x-python",
   "name": "python",
   "nbconvert_exporter": "python",
   "pygments_lexer": "ipython3",
   "version": "3.9.5"
  },
  "orig_nbformat": 4
 },
 "nbformat": 4,
 "nbformat_minor": 2
}
