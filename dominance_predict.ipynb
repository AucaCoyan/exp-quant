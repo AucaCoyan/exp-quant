{
  "cells": [
    {
      "cell_type": "markdown",
      "metadata": {
        "id": "AWYDNk0uY7dH"
      },
      "source": [
        "# Imports"
      ]
    },
    {
      "cell_type": "code",
      "execution_count": 1,
      "metadata": {
        "id": "U_S0Oieoi_Rh"
      },
      "outputs": [],
      "source": [
        "import requests\n",
        "import pandas as pd\n",
        "import numpy as np\n",
        "from sklearn.model_selection import train_test_split\n",
        "from imblearn import over_sampling as os \n",
        "\n",
        "from sklearn.ensemble import RandomForestClassifier\n",
        "from sklearn.metrics import confusion_matrix, plot_confusion_matrix\n",
        "import warnings\n",
        "warnings.filterwarnings('ignore')\n",
        "\n",
        "import matplotlib.pyplot as plt\n",
        "plt.style.use('dark_background')"
      ]
    },
    {
      "cell_type": "markdown",
      "metadata": {
        "id": "inkLs7bpY_Hi"
      },
      "source": [
        "# Datos de dominancia CoinMarketCap"
      ]
    },
    {
      "cell_type": "code",
      "execution_count": 14,
      "metadata": {
        "id": "rRr8WT1ajInq"
      },
      "outputs": [],
      "source": [
        "start, end = \"2015-01-01\", \"2022-01-13\"\n",
        "\n",
        "url = \"https://web-api.coinmarketcap.com/v1.1/cryptocurrency/quotes/historical\"\n",
        "start, end = start+' 00:00:00+00:00', end+' 00:00:00+00:00'\n",
        "params = {\"aux\":\"search_interval,market_cap\" , \"format\":\"chart\",  \"include_global\":\"true\", \n",
        "          \"id\":\"1\", \"interval\":\"1d\", \"time_end\":end, \"time_start\":start}\n",
        "\n",
        "data = requests.get(url, params)\n",
        "dominance = pd.DataFrame(data.json()['data']).T\n",
        "dominance['btc_dom'] = dominance['1']/dominance['global']\n",
        "dominance.index = pd.to_datetime(dominance.index).date"
      ]
    },
    {
      "cell_type": "code",
      "execution_count": 25,
      "metadata": {},
      "outputs": [],
      "source": [
        "data2 = requests.get(url, params)\n",
        "# df_test = pd.DataFrame(data.json())\n",
        "# df_test\n",
        "import json\n",
        "with open('data.json', 'w') as f:\n",
        "    json.dump(data.json(), f)"
      ]
    },
    {
      "cell_type": "markdown",
      "metadata": {
        "id": "osQz087jZDpS"
      },
      "source": [
        "# Datos de Precios CoinGecko"
      ]
    },
    {
      "cell_type": "code",
      "execution_count": 3,
      "metadata": {
        "id": "p0BWq0nYYb1F"
      },
      "outputs": [],
      "source": [
        "ticker = 'bitcoin'\n",
        "url = f\"https://api.coingecko.com/api/v3/coins/{ticker}/market_chart\"\n",
        "params = {\"vs_currency\":\"usd\", \"days\":\"max\"\n",
        "r = requests.get(url, params).json()\n",
        "prices = pd.DataFrame(r['prices'])\n",
        "market_caps = pd.DataFrame(r['market_caps'])\n",
        "total_volumes = pd.DataFrame(r['total_volumes'])\n",
        "df = pd.concat([prices, market_caps[1], total_volumes[1]], axis=1)\n",
        "df[0] = pd.to_datetime(df[0], unit='ms')\n",
        "df.columns = ['date','price','market_caps','total_volumes']\n",
        "df.set_index('date', inplace=True)\n",
        "df.index = pd.to_datetime(df.index).date"
      ]
    },
    {
      "cell_type": "markdown",
      "metadata": {
        "id": "6SEBgKTAZJFL"
      },
      "source": [
        "# Armo matriz de features"
      ]
    },
    {
      "cell_type": "code",
      "execution_count": 5,
      "metadata": {
        "id": "l52c2EHuYw02"
      },
      "outputs": [],
      "source": [
        "# Junto datos de ambas fuentes\n",
        "\n",
        "df = df.reset_index()\n",
        "df = pd.concat([df, dominance], axis=1).dropna()\n",
        "\n",
        "# Armo matriz de features\n",
        "features = pd.DataFrame(index=df.index)\n",
        "features['w_dom_change'] = df.btc_dom.pct_change(7)\n",
        "features['w_price_change'] = df.price.pct_change(7)\n",
        "features['w_volume_change'] = df.total_volumes.rolling(7).mean().pct_change(7)\n",
        "features['w_volatility'] = df.price.pct_change().rolling(7).std()\n",
        "features['w_ir'] = df.price.pct_change().rolling(7).mean() / df.price.pct_change().rolling(7).std()\n",
        "\n",
        "features['m_dom_change'] = df.btc_dom.pct_change(30)\n",
        "features['m_price_change'] = df.price.pct_change(30)\n",
        "features['m_volume_change'] = df.total_volumes.rolling(30).mean().pct_change(30)\n",
        "features['m_volatility'] = df.price.pct_change().rolling(30).std()\n",
        "features['m_ir'] = df.price.pct_change().rolling(30).mean() / df.price.pct_change().rolling(30).std()"
      ]
    },
    {
      "cell_type": "markdown",
      "metadata": {
        "id": "yO8Yg7MpaEIL"
      },
      "source": [
        "# Preparo Target a prededir\n",
        "\n",
        "Quiero predecir el evento positivo que \"Baje mas de 5% la dominancia de BTC los proximos 30 dias, es decir una Alt season mensual\""
      ]
    },
    {
      "cell_type": "code",
      "execution_count": 6,
      "metadata": {
        "id": "P7uUJ49eZ209"
      },
      "outputs": [],
      "source": [
        "dias = 30\n",
        "baja_de_dominancia = 0.05\n",
        "\n",
        "features['TARGET'] = np.where(df.btc_dom.shift(-dias) - df.btc_dom < - baja_de_dominancia, 1, 0)"
      ]
    },
    {
      "cell_type": "markdown",
      "metadata": {
        "id": "bV0o2oJFZMfy"
      },
      "source": [
        "# OVER Sampling\n",
        "Para poder entrenar con un set de datos balanceado, si no, siempre va a predecir que no se da en el proximo mes la gran perdida de dominancia (Alt season)"
      ]
    },
    {
      "cell_type": "code",
      "execution_count": 8,
      "metadata": {
        "id": "P8rfkWdOZK6g"
      },
      "outputs": [
        {
          "ename": "ValueError",
          "evalue": "Found array with 0 sample(s) (shape=(0, 10)) while a minimum of 1 is required.",
          "output_type": "error",
          "traceback": [
            "\u001b[1;31m---------------------------------------------------------------------------\u001b[0m",
            "\u001b[1;31mValueError\u001b[0m                                Traceback (most recent call last)",
            "Input \u001b[1;32mIn [8]\u001b[0m, in \u001b[0;36m<module>\u001b[1;34m\u001b[0m\n\u001b[0;32m      7\u001b[0m y \u001b[38;5;241m=\u001b[39m features\u001b[38;5;241m.\u001b[39miloc[:,\u001b[38;5;241m-\u001b[39m\u001b[38;5;241m1\u001b[39m]\n\u001b[0;32m      8\u001b[0m X \u001b[38;5;241m=\u001b[39m features\u001b[38;5;241m.\u001b[39miloc[:,:\u001b[38;5;241m-\u001b[39m\u001b[38;5;241m1\u001b[39m]\n\u001b[1;32m---> 10\u001b[0m X_os, y_os \u001b[38;5;241m=\u001b[39m \u001b[43mos\u001b[49m\u001b[38;5;241;43m.\u001b[39;49m\u001b[43mSMOTE\u001b[49m\u001b[43m(\u001b[49m\u001b[43mrandom_state\u001b[49m\u001b[38;5;241;43m=\u001b[39;49m\u001b[38;5;241;43m0\u001b[39;49m\u001b[43m)\u001b[49m\u001b[38;5;241;43m.\u001b[39;49m\u001b[43mfit_resample\u001b[49m\u001b[43m(\u001b[49m\u001b[43mX\u001b[49m\u001b[43m,\u001b[49m\u001b[43my\u001b[49m\u001b[43m)\u001b[49m\n",
            "File \u001b[1;32m~\\.virtualenvs\\ae^__-_x-b_^2__2c^2__-yNwIc8Ql\\lib\\site-packages\\imblearn\\base.py:77\u001b[0m, in \u001b[0;36mSamplerMixin.fit_resample\u001b[1;34m(self, X, y)\u001b[0m\n\u001b[0;32m     75\u001b[0m check_classification_targets(y)\n\u001b[0;32m     76\u001b[0m arrays_transformer \u001b[38;5;241m=\u001b[39m ArraysTransformer(X, y)\n\u001b[1;32m---> 77\u001b[0m X, y, binarize_y \u001b[38;5;241m=\u001b[39m \u001b[38;5;28;43mself\u001b[39;49m\u001b[38;5;241;43m.\u001b[39;49m\u001b[43m_check_X_y\u001b[49m\u001b[43m(\u001b[49m\u001b[43mX\u001b[49m\u001b[43m,\u001b[49m\u001b[43m \u001b[49m\u001b[43my\u001b[49m\u001b[43m)\u001b[49m\n\u001b[0;32m     79\u001b[0m \u001b[38;5;28mself\u001b[39m\u001b[38;5;241m.\u001b[39msampling_strategy_ \u001b[38;5;241m=\u001b[39m check_sampling_strategy(\n\u001b[0;32m     80\u001b[0m     \u001b[38;5;28mself\u001b[39m\u001b[38;5;241m.\u001b[39msampling_strategy, y, \u001b[38;5;28mself\u001b[39m\u001b[38;5;241m.\u001b[39m_sampling_type\n\u001b[0;32m     81\u001b[0m )\n\u001b[0;32m     83\u001b[0m output \u001b[38;5;241m=\u001b[39m \u001b[38;5;28mself\u001b[39m\u001b[38;5;241m.\u001b[39m_fit_resample(X, y)\n",
            "File \u001b[1;32m~\\.virtualenvs\\ae^__-_x-b_^2__2c^2__-yNwIc8Ql\\lib\\site-packages\\imblearn\\base.py:132\u001b[0m, in \u001b[0;36mBaseSampler._check_X_y\u001b[1;34m(self, X, y, accept_sparse)\u001b[0m\n\u001b[0;32m    130\u001b[0m     accept_sparse \u001b[38;5;241m=\u001b[39m [\u001b[38;5;124m\"\u001b[39m\u001b[38;5;124mcsr\u001b[39m\u001b[38;5;124m\"\u001b[39m, \u001b[38;5;124m\"\u001b[39m\u001b[38;5;124mcsc\u001b[39m\u001b[38;5;124m\"\u001b[39m]\n\u001b[0;32m    131\u001b[0m y, binarize_y \u001b[38;5;241m=\u001b[39m check_target_type(y, indicate_one_vs_all\u001b[38;5;241m=\u001b[39m\u001b[38;5;28;01mTrue\u001b[39;00m)\n\u001b[1;32m--> 132\u001b[0m X, y \u001b[38;5;241m=\u001b[39m \u001b[38;5;28;43mself\u001b[39;49m\u001b[38;5;241;43m.\u001b[39;49m\u001b[43m_validate_data\u001b[49m\u001b[43m(\u001b[49m\u001b[43mX\u001b[49m\u001b[43m,\u001b[49m\u001b[43m \u001b[49m\u001b[43my\u001b[49m\u001b[43m,\u001b[49m\u001b[43m \u001b[49m\u001b[43mreset\u001b[49m\u001b[38;5;241;43m=\u001b[39;49m\u001b[38;5;28;43;01mTrue\u001b[39;49;00m\u001b[43m,\u001b[49m\u001b[43m \u001b[49m\u001b[43maccept_sparse\u001b[49m\u001b[38;5;241;43m=\u001b[39;49m\u001b[43maccept_sparse\u001b[49m\u001b[43m)\u001b[49m\n\u001b[0;32m    133\u001b[0m \u001b[38;5;28;01mreturn\u001b[39;00m X, y, binarize_y\n",
            "File \u001b[1;32m~\\.virtualenvs\\ae^__-_x-b_^2__2c^2__-yNwIc8Ql\\lib\\site-packages\\sklearn\\base.py:581\u001b[0m, in \u001b[0;36mBaseEstimator._validate_data\u001b[1;34m(self, X, y, reset, validate_separately, **check_params)\u001b[0m\n\u001b[0;32m    579\u001b[0m         y \u001b[38;5;241m=\u001b[39m check_array(y, \u001b[38;5;241m*\u001b[39m\u001b[38;5;241m*\u001b[39mcheck_y_params)\n\u001b[0;32m    580\u001b[0m     \u001b[38;5;28;01melse\u001b[39;00m:\n\u001b[1;32m--> 581\u001b[0m         X, y \u001b[38;5;241m=\u001b[39m check_X_y(X, y, \u001b[38;5;241m*\u001b[39m\u001b[38;5;241m*\u001b[39mcheck_params)\n\u001b[0;32m    582\u001b[0m     out \u001b[38;5;241m=\u001b[39m X, y\n\u001b[0;32m    584\u001b[0m \u001b[38;5;28;01mif\u001b[39;00m \u001b[38;5;129;01mnot\u001b[39;00m no_val_X \u001b[38;5;129;01mand\u001b[39;00m check_params\u001b[38;5;241m.\u001b[39mget(\u001b[38;5;124m\"\u001b[39m\u001b[38;5;124mensure_2d\u001b[39m\u001b[38;5;124m\"\u001b[39m, \u001b[38;5;28;01mTrue\u001b[39;00m):\n",
            "File \u001b[1;32m~\\.virtualenvs\\ae^__-_x-b_^2__2c^2__-yNwIc8Ql\\lib\\site-packages\\sklearn\\utils\\validation.py:964\u001b[0m, in \u001b[0;36mcheck_X_y\u001b[1;34m(X, y, accept_sparse, accept_large_sparse, dtype, order, copy, force_all_finite, ensure_2d, allow_nd, multi_output, ensure_min_samples, ensure_min_features, y_numeric, estimator)\u001b[0m\n\u001b[0;32m    961\u001b[0m \u001b[38;5;28;01mif\u001b[39;00m y \u001b[38;5;129;01mis\u001b[39;00m \u001b[38;5;28;01mNone\u001b[39;00m:\n\u001b[0;32m    962\u001b[0m     \u001b[38;5;28;01mraise\u001b[39;00m \u001b[38;5;167;01mValueError\u001b[39;00m(\u001b[38;5;124m\"\u001b[39m\u001b[38;5;124my cannot be None\u001b[39m\u001b[38;5;124m\"\u001b[39m)\n\u001b[1;32m--> 964\u001b[0m X \u001b[38;5;241m=\u001b[39m \u001b[43mcheck_array\u001b[49m\u001b[43m(\u001b[49m\n\u001b[0;32m    965\u001b[0m \u001b[43m    \u001b[49m\u001b[43mX\u001b[49m\u001b[43m,\u001b[49m\n\u001b[0;32m    966\u001b[0m \u001b[43m    \u001b[49m\u001b[43maccept_sparse\u001b[49m\u001b[38;5;241;43m=\u001b[39;49m\u001b[43maccept_sparse\u001b[49m\u001b[43m,\u001b[49m\n\u001b[0;32m    967\u001b[0m \u001b[43m    \u001b[49m\u001b[43maccept_large_sparse\u001b[49m\u001b[38;5;241;43m=\u001b[39;49m\u001b[43maccept_large_sparse\u001b[49m\u001b[43m,\u001b[49m\n\u001b[0;32m    968\u001b[0m \u001b[43m    \u001b[49m\u001b[43mdtype\u001b[49m\u001b[38;5;241;43m=\u001b[39;49m\u001b[43mdtype\u001b[49m\u001b[43m,\u001b[49m\n\u001b[0;32m    969\u001b[0m \u001b[43m    \u001b[49m\u001b[43morder\u001b[49m\u001b[38;5;241;43m=\u001b[39;49m\u001b[43morder\u001b[49m\u001b[43m,\u001b[49m\n\u001b[0;32m    970\u001b[0m \u001b[43m    \u001b[49m\u001b[43mcopy\u001b[49m\u001b[38;5;241;43m=\u001b[39;49m\u001b[43mcopy\u001b[49m\u001b[43m,\u001b[49m\n\u001b[0;32m    971\u001b[0m \u001b[43m    \u001b[49m\u001b[43mforce_all_finite\u001b[49m\u001b[38;5;241;43m=\u001b[39;49m\u001b[43mforce_all_finite\u001b[49m\u001b[43m,\u001b[49m\n\u001b[0;32m    972\u001b[0m \u001b[43m    \u001b[49m\u001b[43mensure_2d\u001b[49m\u001b[38;5;241;43m=\u001b[39;49m\u001b[43mensure_2d\u001b[49m\u001b[43m,\u001b[49m\n\u001b[0;32m    973\u001b[0m \u001b[43m    \u001b[49m\u001b[43mallow_nd\u001b[49m\u001b[38;5;241;43m=\u001b[39;49m\u001b[43mallow_nd\u001b[49m\u001b[43m,\u001b[49m\n\u001b[0;32m    974\u001b[0m \u001b[43m    \u001b[49m\u001b[43mensure_min_samples\u001b[49m\u001b[38;5;241;43m=\u001b[39;49m\u001b[43mensure_min_samples\u001b[49m\u001b[43m,\u001b[49m\n\u001b[0;32m    975\u001b[0m \u001b[43m    \u001b[49m\u001b[43mensure_min_features\u001b[49m\u001b[38;5;241;43m=\u001b[39;49m\u001b[43mensure_min_features\u001b[49m\u001b[43m,\u001b[49m\n\u001b[0;32m    976\u001b[0m \u001b[43m    \u001b[49m\u001b[43mestimator\u001b[49m\u001b[38;5;241;43m=\u001b[39;49m\u001b[43mestimator\u001b[49m\u001b[43m,\u001b[49m\n\u001b[0;32m    977\u001b[0m \u001b[43m\u001b[49m\u001b[43m)\u001b[49m\n\u001b[0;32m    979\u001b[0m y \u001b[38;5;241m=\u001b[39m _check_y(y, multi_output\u001b[38;5;241m=\u001b[39mmulti_output, y_numeric\u001b[38;5;241m=\u001b[39my_numeric)\n\u001b[0;32m    981\u001b[0m check_consistent_length(X, y)\n",
            "File \u001b[1;32m~\\.virtualenvs\\ae^__-_x-b_^2__2c^2__-yNwIc8Ql\\lib\\site-packages\\sklearn\\utils\\validation.py:805\u001b[0m, in \u001b[0;36mcheck_array\u001b[1;34m(array, accept_sparse, accept_large_sparse, dtype, order, copy, force_all_finite, ensure_2d, allow_nd, ensure_min_samples, ensure_min_features, estimator)\u001b[0m\n\u001b[0;32m    803\u001b[0m     n_samples \u001b[38;5;241m=\u001b[39m _num_samples(array)\n\u001b[0;32m    804\u001b[0m     \u001b[38;5;28;01mif\u001b[39;00m n_samples \u001b[38;5;241m<\u001b[39m ensure_min_samples:\n\u001b[1;32m--> 805\u001b[0m         \u001b[38;5;28;01mraise\u001b[39;00m \u001b[38;5;167;01mValueError\u001b[39;00m(\n\u001b[0;32m    806\u001b[0m             \u001b[38;5;124m\"\u001b[39m\u001b[38;5;124mFound array with \u001b[39m\u001b[38;5;132;01m%d\u001b[39;00m\u001b[38;5;124m sample(s) (shape=\u001b[39m\u001b[38;5;132;01m%s\u001b[39;00m\u001b[38;5;124m) while a\u001b[39m\u001b[38;5;124m\"\u001b[39m\n\u001b[0;32m    807\u001b[0m             \u001b[38;5;124m\"\u001b[39m\u001b[38;5;124m minimum of \u001b[39m\u001b[38;5;132;01m%d\u001b[39;00m\u001b[38;5;124m is required\u001b[39m\u001b[38;5;132;01m%s\u001b[39;00m\u001b[38;5;124m.\u001b[39m\u001b[38;5;124m\"\u001b[39m\n\u001b[0;32m    808\u001b[0m             \u001b[38;5;241m%\u001b[39m (n_samples, array\u001b[38;5;241m.\u001b[39mshape, ensure_min_samples, context)\n\u001b[0;32m    809\u001b[0m         )\n\u001b[0;32m    811\u001b[0m \u001b[38;5;28;01mif\u001b[39;00m ensure_min_features \u001b[38;5;241m>\u001b[39m \u001b[38;5;241m0\u001b[39m \u001b[38;5;129;01mand\u001b[39;00m array\u001b[38;5;241m.\u001b[39mndim \u001b[38;5;241m==\u001b[39m \u001b[38;5;241m2\u001b[39m:\n\u001b[0;32m    812\u001b[0m     n_features \u001b[38;5;241m=\u001b[39m array\u001b[38;5;241m.\u001b[39mshape[\u001b[38;5;241m1\u001b[39m]\n",
            "\u001b[1;31mValueError\u001b[0m: Found array with 0 sample(s) (shape=(0, 10)) while a minimum of 1 is required."
          ]
        }
      ],
      "source": [
        "# Guardo para predecir luego datos actuales\n",
        "features_ultimos = features.iloc[-30: , :] \n",
        "\n",
        "# Preparo Matriz features X, Vector Target y\n",
        "features = features.dropna().iloc[:-30: , :]\n",
        "\n",
        "y = features.iloc[:,-1]\n",
        "X = features.iloc[:,:-1]\n",
        "\n",
        "X_os, y_os = os.SMOTE(random_state=0).fit_resample(X,y)"
      ]
    },
    {
      "cell_type": "markdown",
      "metadata": {
        "id": "2qM6ADzbassI"
      },
      "source": [
        "# Calculo chances previo al FIT"
      ]
    },
    {
      "cell_type": "code",
      "execution_count": null,
      "metadata": {
        "colab": {
          "base_uri": "https://localhost:8080/"
        },
        "id": "O9bc8reuafsm",
        "outputId": "98ec4a26-02c3-4629-e9c3-8bceb9db50a0"
      },
      "outputs": [
        {
          "data": {
            "text/plain": [
              "0.1654228855721393"
            ]
          },
          "execution_count": 7,
          "metadata": {},
          "output_type": "execute_result"
        }
      ],
      "source": [
        "# Probabilidad que una fecha dada se produzca esa Alt Season en los proximos N (30) dias\n",
        "features.groupby('TARGET').size()[1] / len(features)"
      ]
    },
    {
      "cell_type": "code",
      "execution_count": null,
      "metadata": {
        "colab": {
          "base_uri": "https://localhost:8080/",
          "height": 565
        },
        "id": "l1Dg9n9ba0R8",
        "outputId": "2c18cfc6-d447-4c7d-fb17-ae47e1211298"
      },
      "outputs": [
        {
          "data": {
            "image/png": "[encoded data removed]",
            "text/plain": [
              "<Figure size 960x480 with 2 Axes>"
            ]
          },
          "metadata": {},
          "output_type": "display_data"
        }
      ],
      "source": [
        "# Entrenamos con el 60% de los datos al modelo\n",
        "X_train, X_test, y_train, y_test = train_test_split(X_os, y_os, test_size=0.4)\n",
        "\n",
        "\n",
        "# Definimos Modelo\n",
        "modelo = RandomForestClassifier(criterion = 'entropy', max_depth=8, random_state=0, n_estimators=1000) \n",
        "\n",
        "\n",
        "# FIT  (Entrenamiento del modelo)\n",
        "modelo.fit(X_train, y_train)\n",
        "\n",
        "\n",
        "# Ploteamos Matriz Confusion\n",
        "plt.rcParams['figure.dpi']  = 120\n",
        "fig, ax = plt.subplots(figsize=(8,4))\n",
        "plot_confusion_matrix(modelo, X_test, y_test, values_format='.1%', normalize=\"pred\", cmap='Blues', ax=ax)\n",
        "sp = ' '*30\n",
        "title = f'\\n{sp}Alt Season Predict {dias} days, {baja_de_dominancia:.2%} BTC dominance drop{sp}'\n",
        "title += f'\\n{sp}Random forest model. Confusion Matrix{sp}\\n'\n",
        "ax.set_title(title, fontsize=14)\n",
        "plt.show()"
      ]
    },
    {
      "cell_type": "markdown",
      "metadata": {
        "id": "hxqdPbf4fNF2"
      },
      "source": [
        "# Finalmente, predecimos con datos de ultimo mes\n"
      ]
    },
    {
      "cell_type": "code",
      "execution_count": null,
      "metadata": {
        "colab": {
          "base_uri": "https://localhost:8080/"
        },
        "id": "FrBIAoOgbQOK",
        "outputId": "57bd3724-5c8c-434f-fc12-fd2079393c76"
      },
      "outputs": [
        {
          "name": "stdout",
          "output_type": "stream",
          "text": [
            "[1 1 1 1 1 1 1 1 1 1 1 0 1 0 0 0 0 0 0 0 0 0 0 0 0 1 1 0 1 1]\n"
          ]
        }
      ],
      "source": [
        "# Calculo predicciones para el ultimo mes\n",
        "predicciones = modelo.predict(features_ultimos.iloc[-30:,:-1])\n",
        "\n",
        "# Veamos que mierda predijo...\n",
        "print(predicciones)"
      ]
    },
    {
      "cell_type": "code",
      "execution_count": null,
      "metadata": {
        "colab": {
          "base_uri": "https://localhost:8080/"
        },
        "id": "FVxAc-LefLnn",
        "outputId": "ac0ac73f-3914-43fb-890b-1b1040be7d80"
      },
      "outputs": [
        {
          "data": {
            "text/plain": [
              "53.333333333333336"
            ]
          },
          "execution_count": 19,
          "metadata": {},
          "output_type": "execute_result"
        }
      ],
      "source": [
        "# Calculo el % de días que predijo Alt Season (de los ultimos 30)\n",
        "modelo.predict(features_ultimos.iloc[-30:,:-1]).sum()/30*100"
      ]
    },
    {
      "cell_type": "markdown",
      "metadata": {
        "id": "SA1VhcFhfbz7"
      },
      "source": [
        "# Conclusión\n",
        "\n",
        "Mas de la mitad de preducciones positivas (incluyendo los ultimos dias), cuando habíamos dicho que solo había inicialmente un 16.54% de chances de ocurrencia\n",
        "Con un modelo que cuando predice positivo tiene un 89% de aciertos"
      ]
    },
    {
      "cell_type": "code",
      "execution_count": null,
      "metadata": {
        "id": "nHcqPtOMSlzo"
      },
      "outputs": [],
      "source": []
    }
  ],
  "metadata": {
    "accelerator": "GPU",
    "colab": {
      "collapsed_sections": [],
      "name": "dominance_predict.ipynb",
      "provenance": []
    },
    "kernelspec": {
      "display_name": "Python 3",
      "name": "python3"
    },
    "language_info": {
      "codemirror_mode": {
        "name": "ipython",
        "version": 3
      },
      "file_extension": ".py",
      "mimetype": "text/x-python",
      "name": "python",
      "nbconvert_exporter": "python",
      "pygments_lexer": "ipython3",
      "version": "3.9.5"
    }
  },
  "nbformat": 4,
  "nbformat_minor": 0
}
