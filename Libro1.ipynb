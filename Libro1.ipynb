{
 "cells": [
  {
   "cell_type": "markdown",
   "source": [
    "# Solución de los ejercicios del libro 1"
   ],
   "metadata": {}
  },
  {
   "cell_type": "code",
   "execution_count": 13,
   "source": [
    "# página 51\r\n",
    "import random\r\n",
    "ggal = random.randrange(10000, 11000)/100\r\n",
    "print(ggal)"
   ],
   "outputs": [
    {
     "output_type": "stream",
     "name": "stdout",
     "text": [
      "105.47\n"
     ]
    }
   ],
   "metadata": {}
  },
  {
   "cell_type": "code",
   "execution_count": 14,
   "source": [
    "# página 51\r\n",
    "mu = 0.1\r\n",
    "sigma = 2.5\r\n",
    "random.normalvariate(mu, sigma)"
   ],
   "outputs": [
    {
     "output_type": "execute_result",
     "data": {
      "text/plain": [
       "-3.4670137570052026"
      ]
     },
     "metadata": {},
     "execution_count": 14
    }
   ],
   "metadata": {}
  },
  {
   "cell_type": "markdown",
   "source": [
    "## Date and Time"
   ],
   "metadata": {}
  },
  {
   "cell_type": "code",
   "execution_count": 15,
   "source": [
    "# Date time\r\n",
    "import datetime\r\n",
    "añoactual= datetime.datetime.now().year\r\n",
    "print(añoactual)"
   ],
   "outputs": [
    {
     "output_type": "stream",
     "name": "stdout",
     "text": [
      "2021\n"
     ]
    }
   ],
   "metadata": {}
  },
  {
   "cell_type": "code",
   "execution_count": 16,
   "source": [
    "# Pagina 64\r\n",
    "import datetime\r\n",
    "import calendar\r\n",
    "añoactual = datetime.datetime.now().year\r\n",
    "day = 12\r\n",
    "month = 3\r\n",
    "dia = calendar.weekday(añoactual, day, month)\r\n",
    "dia_nombre = calendar.day_name[dia]\r\n",
    "print(dia_nombre)"
   ],
   "outputs": [
    {
     "output_type": "stream",
     "name": "stdout",
     "text": [
      "Friday\n"
     ]
    }
   ],
   "metadata": {}
  },
  {
   "cell_type": "markdown",
   "source": [
    "# Ejercicios de la página 126"
   ],
   "metadata": {}
  },
  {
   "cell_type": "code",
   "execution_count": 1,
   "source": [
    "import csv\r\n",
    "data = csv.reader(open('UCEMA/balances.csv'),delimiter=';')\r\n",
    "balances = [fila for fila in data]\r\n",
    "\r\n",
    "empresas = [\"AAPL\", \"AMZN\", \"FB\", \"TSLA\", \"KO\", \"NFLX\"]\r\n",
    "screener = {}\r\n",
    "\r\n",
    "for empresa in empresas:\r\n",
    "    for balance in balances:\r\n",
    "        if balance[0]==empresa and balance[1]==\"anual\":\r\n",
    "            try:\r\n",
    "                screener[empresa] = round(int(balance[16]) / int(balance[13]),2)\r\n",
    "            except:\r\n",
    "                screener[empresa] = \"No se pudo calcular\"\r\n",
    "            break\r\n",
    "\r\n",
    "print(screener)\r\n",
    "for linea in balances:\r\n",
    "    print(balances[linea])\r\n",
    "    print('\\n')"
   ],
   "outputs": [
    {
     "output_type": "stream",
     "name": "stdout",
     "text": [
      "{'AAPL': 1.54, 'AMZN': 1.1, 'FB': 4.4, 'TSLA': 1.13, 'KO': 0.76, 'NFLX': 0.9}\n"
     ]
    },
    {
     "output_type": "error",
     "ename": "TypeError",
     "evalue": "list indices must be integers or slices, not list",
     "traceback": [
      "\u001b[1;31m---------------------------------------------------------------------------\u001b[0m",
      "\u001b[1;31mTypeError\u001b[0m                                 Traceback (most recent call last)",
      "\u001b[1;32m~\\AppData\\Local\\Temp/ipykernel_18080/2343676256.py\u001b[0m in \u001b[0;36m<module>\u001b[1;34m\u001b[0m\n\u001b[0;32m     17\u001b[0m \u001b[0mprint\u001b[0m\u001b[1;33m(\u001b[0m\u001b[0mscreener\u001b[0m\u001b[1;33m)\u001b[0m\u001b[1;33m\u001b[0m\u001b[1;33m\u001b[0m\u001b[0m\n\u001b[0;32m     18\u001b[0m \u001b[1;32mfor\u001b[0m \u001b[0mlinea\u001b[0m \u001b[1;32min\u001b[0m \u001b[0mbalances\u001b[0m\u001b[1;33m:\u001b[0m\u001b[1;33m\u001b[0m\u001b[1;33m\u001b[0m\u001b[0m\n\u001b[1;32m---> 19\u001b[1;33m     \u001b[0mprint\u001b[0m\u001b[1;33m(\u001b[0m\u001b[0mbalances\u001b[0m\u001b[1;33m[\u001b[0m\u001b[0mlinea\u001b[0m\u001b[1;33m]\u001b[0m\u001b[1;33m)\u001b[0m\u001b[1;33m\u001b[0m\u001b[1;33m\u001b[0m\u001b[0m\n\u001b[0m\u001b[0;32m     20\u001b[0m     \u001b[0mprint\u001b[0m\u001b[1;33m(\u001b[0m\u001b[1;34m'\\n'\u001b[0m\u001b[1;33m)\u001b[0m\u001b[1;33m\u001b[0m\u001b[1;33m\u001b[0m\u001b[0m\n",
      "\u001b[1;31mTypeError\u001b[0m: list indices must be integers or slices, not list"
     ]
    }
   ],
   "metadata": {}
  }
 ],
 "metadata": {
  "orig_nbformat": 4,
  "language_info": {
   "name": "python",
   "version": "3.9.5",
   "mimetype": "text/x-python",
   "codemirror_mode": {
    "name": "ipython",
    "version": 3
   },
   "pygments_lexer": "ipython3",
   "nbconvert_exporter": "python",
   "file_extension": ".py"
  },
  "kernelspec": {
   "name": "python3",
   "display_name": "Python 3.9.5 64-bit"
  },
  "interpreter": {
   "hash": "186d8d91d0a2c4201230aea084efaf4e33b7d92a502e42db9f07f6f3b8511506"
  }
 },
 "nbformat": 4,
 "nbformat_minor": 2
}