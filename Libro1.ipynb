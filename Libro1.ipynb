{
 "cells": [
  {
   "cell_type": "code",
   "execution_count": 16,
   "source": [
    "# página 51\r\n",
    "import random\r\n",
    "ggal = random.randrange(10000, 11000)/100\r\n",
    "print(ggal)"
   ],
   "outputs": [
    {
     "output_type": "stream",
     "name": "stdout",
     "text": [
      "100.72\n"
     ]
    }
   ],
   "metadata": {}
  },
  {
   "cell_type": "code",
   "execution_count": 17,
   "source": [
    "# página 51\r\n",
    "mu = 0.1\r\n",
    "sigma = 2.5\r\n",
    "random.normalvariate(mu, sigma)"
   ],
   "outputs": [
    {
     "output_type": "execute_result",
     "data": {
      "text/plain": [
       "-6.713854063970575"
      ]
     },
     "metadata": {},
     "execution_count": 17
    }
   ],
   "metadata": {}
  },
  {
   "cell_type": "code",
   "execution_count": 25,
   "source": [
    "# Date time\r\n",
    "import datetime\r\n",
    "añoactual= datetime.datetime.now().year\r\n",
    "print(añoactual)"
   ],
   "outputs": [
    {
     "output_type": "stream",
     "name": "stdout",
     "text": [
      "2021\n"
     ]
    }
   ],
   "metadata": {}
  },
  {
   "cell_type": "code",
   "execution_count": 35,
   "source": [
    "# Pagina 64\r\n",
    "import datetime\r\n",
    "import calendar\r\n",
    "añoactual = datetime.datetime.now().year\r\n",
    "day = 12\r\n",
    "month = 3\r\n",
    "dia = calendar.weekday(añoactual, day, month)\r\n",
    "dia_nombre = calendar.day_name[dia]\r\n",
    "print(dia_nombre)"
   ],
   "outputs": [
    {
     "output_type": "stream",
     "name": "stdout",
     "text": [
      "Friday\n"
     ]
    }
   ],
   "metadata": {}
  }
 ],
 "metadata": {
  "orig_nbformat": 4,
  "language_info": {
   "name": "python",
   "version": "3.9.5",
   "mimetype": "text/x-python",
   "codemirror_mode": {
    "name": "ipython",
    "version": 3
   },
   "pygments_lexer": "ipython3",
   "nbconvert_exporter": "python",
   "file_extension": ".py"
  },
  "kernelspec": {
   "name": "python3",
   "display_name": "Python 3.9.5 64-bit"
  },
  "interpreter": {
   "hash": "186d8d91d0a2c4201230aea084efaf4e33b7d92a502e42db9f07f6f3b8511506"
  }
 },
 "nbformat": 4,
 "nbformat_minor": 2
}